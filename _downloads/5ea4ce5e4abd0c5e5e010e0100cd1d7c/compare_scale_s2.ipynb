{
  "cells": [
    {
      "cell_type": "markdown",
      "metadata": {},
      "source": [
        "\n# Compare Sentinel-2 scale/offset evolution during time\n\nUsing SCL data from L2A\n"
      ]
    },
    {
      "cell_type": "markdown",
      "metadata": {},
      "source": [
        "## Import librairies\n\n"
      ]
    },
    {
      "cell_type": "code",
      "execution_count": null,
      "metadata": {
        "collapsed": false
      },
      "outputs": [],
      "source": [
        "from earthdaily import earthdatastore\nimport geopandas as gpd\nfrom matplotlib import pyplot as plt"
      ]
    },
    {
      "cell_type": "markdown",
      "metadata": {},
      "source": [
        "## Load plot\n\n"
      ]
    },
    {
      "cell_type": "code",
      "execution_count": null,
      "metadata": {
        "collapsed": false
      },
      "outputs": [],
      "source": [
        "# load geojson\npivot = gpd.read_file(\"pivot.geojson\")"
      ]
    },
    {
      "cell_type": "markdown",
      "metadata": {},
      "source": [
        "## Init earthdatastore with env params\n\n"
      ]
    },
    {
      "cell_type": "code",
      "execution_count": null,
      "metadata": {
        "collapsed": false
      },
      "outputs": [],
      "source": [
        "eds = earthdatastore.Auth()"
      ]
    },
    {
      "cell_type": "markdown",
      "metadata": {},
      "source": [
        "Search for collection items\n\n\n"
      ]
    },
    {
      "cell_type": "code",
      "execution_count": null,
      "metadata": {
        "collapsed": false
      },
      "outputs": [],
      "source": [
        "def get_cube(rescale=True):\n    pivot_cube = eds.datacube(\n        \"sentinel-2-l2a\",\n        intersects=pivot,\n        datetime=[\"2022-01-01\", \"2022-03-10\"],\n        assets=[\"red\", \"green\", \"blue\"],\n        mask_with=\"native\",  # same as scl\n        mask_statistics=-1,  # boolean or int (n_jobs) to compute in parallel if small\n        rescale=rescale,\n    )\n    return pivot_cube"
      ]
    },
    {
      "cell_type": "markdown",
      "metadata": {},
      "source": [
        "## Get cube with rescale (*0.0001)\n\n"
      ]
    },
    {
      "cell_type": "code",
      "execution_count": null,
      "metadata": {
        "collapsed": false
      },
      "outputs": [],
      "source": [
        "pivot_cube = get_cube(rescale=False) * 0.0001\npivot_cube.clear_percent_scl.plot.scatter(x=\"time\")\nplt.show()"
      ]
    },
    {
      "cell_type": "markdown",
      "metadata": {},
      "source": [
        "## Plots cube with SCL with at least 50% of clear data\n\n"
      ]
    },
    {
      "cell_type": "code",
      "execution_count": null,
      "metadata": {
        "collapsed": false
      },
      "outputs": [],
      "source": [
        "pivot_cube = pivot_cube.sel(time=pivot_cube.time[pivot_cube.clear_percent_scl > 50])\n\npivot_cube.to_array(dim=\"band\").plot.imshow(vmin=0, vmax=0.33, col=\"time\", col_wrap=3)\n\nplt.show()"
      ]
    },
    {
      "cell_type": "markdown",
      "metadata": {},
      "source": [
        "## Get cube with automatic rescale (default option)\n\n"
      ]
    },
    {
      "cell_type": "code",
      "execution_count": null,
      "metadata": {
        "collapsed": false
      },
      "outputs": [],
      "source": [
        "pivot_cube = get_cube()\npivot_cube.clear_percent_scl.plot.scatter(x=\"time\")\nplt.show()"
      ]
    },
    {
      "cell_type": "markdown",
      "metadata": {},
      "source": [
        "## Plots cube with SCL with at least 50% of clear data\n\n"
      ]
    },
    {
      "cell_type": "code",
      "execution_count": null,
      "metadata": {
        "collapsed": false
      },
      "outputs": [],
      "source": [
        "pivot_cube = pivot_cube.sel(time=pivot_cube.time[pivot_cube.clear_percent_scl > 50])\n\npivot_cube.to_array(dim=\"band\").plot.imshow(vmin=0, vmax=0.33, col=\"time\", col_wrap=3)\n\nplt.show()"
      ]
    }
  ],
  "metadata": {
    "kernelspec": {
      "display_name": "Python 3",
      "language": "python",
      "name": "python3"
    },
    "language_info": {
      "codemirror_mode": {
        "name": "ipython",
        "version": 3
      },
      "file_extension": ".py",
      "mimetype": "text/x-python",
      "name": "python",
      "nbconvert_exporter": "python",
      "pygments_lexer": "ipython3",
      "version": "3.11.6"
    }
  },
  "nbformat": 4,
  "nbformat_minor": 0
}