{
  "cells": [
    {
      "cell_type": "markdown",
      "metadata": {},
      "source": [
        "\n# First steps to create a datacube\n\nTo create a datacube using Earth Data Store from EarthDaily you have two possibilities.\n\nThe first one is the more classic one, you request items, then you build your datacube, and then you can mask pixels using a cloudmask asset.\nThe second one is the most turnkey one, the one we recommend, it allows to do all the process at once.\n"
      ]
    },
    {
      "cell_type": "markdown",
      "metadata": {},
      "source": [
        "## Import librairies\n\n"
      ]
    },
    {
      "cell_type": "code",
      "execution_count": null,
      "metadata": {
        "collapsed": false
      },
      "outputs": [],
      "source": [
        "from earthdaily import earthdatastore\nimport geopandas as gpd\nfrom matplotlib import pyplot as plt"
      ]
    },
    {
      "cell_type": "markdown",
      "metadata": {},
      "source": [
        "Loading geometry\n\n"
      ]
    },
    {
      "cell_type": "code",
      "execution_count": null,
      "metadata": {
        "collapsed": false
      },
      "outputs": [],
      "source": [
        "geometry = gpd.read_file(\"pivot.geojson\")"
      ]
    },
    {
      "cell_type": "markdown",
      "metadata": {},
      "source": [
        "Init earthdaily and check available assets\n\n"
      ]
    },
    {
      "cell_type": "code",
      "execution_count": null,
      "metadata": {
        "collapsed": false
      },
      "outputs": [],
      "source": [
        "eds = earthdatastore.Auth()  # using config from ENV"
      ]
    },
    {
      "cell_type": "markdown",
      "metadata": {},
      "source": [
        "## Create datacube (all in one)\n\n"
      ]
    },
    {
      "cell_type": "code",
      "execution_count": null,
      "metadata": {
        "collapsed": false
      },
      "outputs": [],
      "source": [
        "s2_datacube = eds.datacube(\n    \"sentinel-2-l2a\",\n    assets=[\"blue\", \"green\", \"red\", \"nir\"],\n    intersects=geometry,\n    datetime=[\"2022-07\"],\n    mask_with=\"native\",  # equal to \"scl\" for sentinel-2\n    mask_statistics=True,\n)\n\ns2_datacube.clear_percent_scl.plot.scatter(x=\"time\")\nplt.title(\"Percentage of clear pixels on the study site\")\nplt.show()\nprint(s2_datacube)\n\ns2_datacube[[\"red\", \"green\", \"blue\"]].to_array(dim=\"band\").plot.imshow(\n    vmin=0, vmax=0.2, col=\"time\", col_wrap=4\n)"
      ]
    },
    {
      "cell_type": "markdown",
      "metadata": {},
      "source": [
        "## Create datacube in three steps\n\n"
      ]
    },
    {
      "cell_type": "markdown",
      "metadata": {},
      "source": [
        "Request items\n\n"
      ]
    },
    {
      "cell_type": "code",
      "execution_count": null,
      "metadata": {
        "collapsed": false
      },
      "outputs": [],
      "source": [
        "items = eds.search(\n    \"sentinel-2-l2a\", intersects=geometry, datetime=[\"2022-07\"]\n)"
      ]
    },
    {
      "cell_type": "markdown",
      "metadata": {},
      "source": [
        "Creata datacube (independent from being log into earthdatastore)\nWe request the \"scl\" assets which is the native cloudmask\n\n"
      ]
    },
    {
      "cell_type": "code",
      "execution_count": null,
      "metadata": {
        "collapsed": false
      },
      "outputs": [],
      "source": [
        "s2_datacube = earthdatastore.datacube(\n    items, assets=[\"blue\", \"green\", \"red\", \"nir\", \"scl\"], intersects=geometry\n)"
      ]
    },
    {
      "cell_type": "markdown",
      "metadata": {},
      "source": [
        "Mask datacube\n\n"
      ]
    },
    {
      "cell_type": "code",
      "execution_count": null,
      "metadata": {
        "collapsed": false
      },
      "outputs": [],
      "source": [
        "# intersects or bbox are asked in order to compute accurate mask statistics\n\ns2_datacube = earthdatastore.mask.Mask(s2_datacube, intersects=geometry).scl(\n    mask_statistics=True\n)\n\n#\ns2_datacube[[\"red\", \"green\", \"blue\"]].to_array(dim=\"band\").plot.imshow(\n    vmin=0, vmax=0.2, col=\"time\", col_wrap=4\n)"
      ]
    }
  ],
  "metadata": {
    "kernelspec": {
      "display_name": "Python 3",
      "language": "python",
      "name": "python3"
    },
    "language_info": {
      "codemirror_mode": {
        "name": "ipython",
        "version": 3
      },
      "file_extension": ".py",
      "mimetype": "text/x-python",
      "name": "python",
      "nbconvert_exporter": "python",
      "pygments_lexer": "ipython3",
      "version": "3.11.6"
    }
  },
  "nbformat": 4,
  "nbformat_minor": 0
}