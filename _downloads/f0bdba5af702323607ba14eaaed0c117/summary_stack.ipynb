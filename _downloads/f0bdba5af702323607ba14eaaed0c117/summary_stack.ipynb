{
  "cells": [
    {
      "cell_type": "markdown",
      "metadata": {},
      "source": [
        "\n# Explore collection metadata using earthdaily\n"
      ]
    },
    {
      "cell_type": "markdown",
      "metadata": {},
      "source": [
        "## Import librairies\n\n"
      ]
    },
    {
      "cell_type": "code",
      "execution_count": null,
      "metadata": {
        "collapsed": false
      },
      "outputs": [],
      "source": [
        "import json\nfrom earthdaily import earthdatastore\nfrom rich.table import Table\nfrom rich.console import Console\nimport os\n\nfrom dotenv import load_dotenv\n\nload_dotenv()  # take environment variables from .env.\n\nconsole = Console()"
      ]
    },
    {
      "cell_type": "markdown",
      "metadata": {},
      "source": [
        "## Init earthdaily with earthdatastore\n\n"
      ]
    },
    {
      "cell_type": "code",
      "execution_count": null,
      "metadata": {
        "collapsed": false
      },
      "outputs": [],
      "source": [
        "eds = earthdatastore.Auth()"
      ]
    },
    {
      "cell_type": "markdown",
      "metadata": {},
      "source": [
        "## Explore available collections\n\n"
      ]
    },
    {
      "cell_type": "code",
      "execution_count": null,
      "metadata": {
        "collapsed": false
      },
      "outputs": [],
      "source": [
        "table = Table(\"Available collections\")\nfor t in eds.explore():\n    table.add_row(t)\nconsole.print(table)"
      ]
    },
    {
      "cell_type": "markdown",
      "metadata": {},
      "source": [
        "## Explore a specific collection\n\n"
      ]
    },
    {
      "cell_type": "code",
      "execution_count": null,
      "metadata": {
        "collapsed": false
      },
      "outputs": [],
      "source": [
        "collection = eds.explore(\"sentinel-2-l2a\")\nconsole.log(collection.properties)"
      ]
    },
    {
      "cell_type": "markdown",
      "metadata": {},
      "source": [
        "## List properties available per item\n\n"
      ]
    },
    {
      "cell_type": "code",
      "execution_count": null,
      "metadata": {
        "collapsed": false
      },
      "outputs": [],
      "source": [
        "table = Table(\"properties\", \"values\", \"dtype\", title=f\"Properties for {collection}\")\nfor k, v in collection.item_properties.items():  # item_properties is a dict\n    table.add_row(k, str(v), type(v).__name__)\nconsole.print(table)"
      ]
    },
    {
      "cell_type": "markdown",
      "metadata": {},
      "source": [
        "## Read assets and metadata\n\n"
      ]
    },
    {
      "cell_type": "code",
      "execution_count": null,
      "metadata": {
        "collapsed": false
      },
      "outputs": [],
      "source": [
        "table = Table(\"assets\", \"common_name\", \"description\", title=f\"Assets for {collection}\")\nfor asset in collection.assets():\n    table.add_row(\n        asset,\n        collection.assets(asset).get(\"eo:bands\", [{}])[0].get(\"common_name\"),\n        collection.assets(asset).get(\"eo:bands\", [{}])[0].get(\"description\"),\n    )\nconsole.print(table)"
      ]
    }
  ],
  "metadata": {
    "kernelspec": {
      "display_name": "Python 3",
      "language": "python",
      "name": "python3"
    },
    "language_info": {
      "codemirror_mode": {
        "name": "ipython",
        "version": 3
      },
      "file_extension": ".py",
      "mimetype": "text/x-python",
      "name": "python",
      "nbconvert_exporter": "python",
      "pygments_lexer": "ipython3",
      "version": "3.11.6"
    }
  },
  "nbformat": 4,
  "nbformat_minor": 0
}