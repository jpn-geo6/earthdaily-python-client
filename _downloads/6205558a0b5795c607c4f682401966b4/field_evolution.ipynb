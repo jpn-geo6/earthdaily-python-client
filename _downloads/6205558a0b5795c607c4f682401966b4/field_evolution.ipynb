{
  "cells": [
    {
      "cell_type": "markdown",
      "metadata": {},
      "source": [
        "\n# Field evolution and zonal stats\n\nUsing SCL data from L2A, zonal stats for evolution\n"
      ]
    },
    {
      "cell_type": "markdown",
      "metadata": {},
      "source": [
        "## Import librairies\n\n"
      ]
    },
    {
      "cell_type": "code",
      "execution_count": null,
      "metadata": {
        "collapsed": false
      },
      "outputs": [],
      "source": [
        "from earthdaily import earthdatastore\nimport geopandas as gpd\nfrom matplotlib import pyplot as plt\nimport numpy as np"
      ]
    },
    {
      "cell_type": "markdown",
      "metadata": {},
      "source": [
        "## Load plot\n\n"
      ]
    },
    {
      "cell_type": "code",
      "execution_count": null,
      "metadata": {
        "collapsed": false
      },
      "outputs": [],
      "source": [
        "# load geojson\npivot = gpd.read_file(\"pivot.geojson\")"
      ]
    },
    {
      "cell_type": "markdown",
      "metadata": {},
      "source": [
        "## Init earthdatastore with env params\n\n"
      ]
    },
    {
      "cell_type": "code",
      "execution_count": null,
      "metadata": {
        "collapsed": false
      },
      "outputs": [],
      "source": [
        "eds = earthdatastore.Auth()"
      ]
    },
    {
      "cell_type": "markdown",
      "metadata": {},
      "source": [
        "Search for collection items in august 2022\n\n\n"
      ]
    },
    {
      "cell_type": "code",
      "execution_count": null,
      "metadata": {
        "collapsed": false
      },
      "outputs": [],
      "source": [
        "pivot_cube = eds.datacube(\n    \"sentinel-2-l2a\",\n    intersects=pivot,\n    datetime=[\"2022-08-01\", \"2022-08-08\"],\n    assets=[\"red\", \"green\", \"blue\"],\n    mask_with=\"native\",  # same as scl\n    mask_statistics=True,\n)\n\npivot_cube.clear_percent_scl.plot.scatter(x=\"time\")"
      ]
    },
    {
      "cell_type": "markdown",
      "metadata": {},
      "source": [
        "## Plots cube with SCL with at least 50% of clear data\n\n"
      ]
    },
    {
      "cell_type": "code",
      "execution_count": null,
      "metadata": {
        "collapsed": false
      },
      "outputs": [],
      "source": [
        "cube_majority_clear = pivot_cube.sel(\n    time=pivot_cube.time[pivot_cube.clear_percent_scl > 50]\n)\n\ncube_majority_clear = cube_majority_clear.load()\n\ncube_majority_clear.to_array(dim=\"band\").plot.imshow(\n    vmin=0, vmax=0.33, col=\"time\", col_wrap=3\n)\n\nplt.title(\"Clear cover percent with SCL\")\nplt.title(\"Pivot evolution with SCL masks\")\nplt.show()"
      ]
    },
    {
      "cell_type": "markdown",
      "metadata": {},
      "source": [
        "## Compute zonal stats for the pivot\n\n"
      ]
    },
    {
      "cell_type": "code",
      "execution_count": null,
      "metadata": {
        "collapsed": false
      },
      "outputs": [],
      "source": [
        "zonal_stats = earthdatastore.cube_utils.zonal_stats(\n    cube_majority_clear, pivot, operations=[\"mean\", \"max\", \"min\"]\n)\nzonal_stats = zonal_stats.load()\n\nzonal_stats.isel(feature=0).to_array(dim=\"band\").plot.line(\n    x=\"time\", col=\"band\", hue=\"stats\"\n)"
      ]
    }
  ],
  "metadata": {
    "kernelspec": {
      "display_name": "Python 3",
      "language": "python",
      "name": "python3"
    },
    "language_info": {
      "codemirror_mode": {
        "name": "ipython",
        "version": 3
      },
      "file_extension": ".py",
      "mimetype": "text/x-python",
      "name": "python",
      "nbconvert_exporter": "python",
      "pygments_lexer": "ipython3",
      "version": "3.11.6"
    }
  },
  "nbformat": 4,
  "nbformat_minor": 0
}