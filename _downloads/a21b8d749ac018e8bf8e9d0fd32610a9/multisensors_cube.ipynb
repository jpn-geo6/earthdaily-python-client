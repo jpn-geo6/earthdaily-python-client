{
  "cells": [
    {
      "cell_type": "markdown",
      "metadata": {},
      "source": [
        "\n# Create a multisensor cube\n\nWith Sentinel-2 and Venus, using Sentinel-2 spatial resolutino for demo purpose\n"
      ]
    },
    {
      "cell_type": "markdown",
      "metadata": {},
      "source": [
        "## Import librairies\n\n"
      ]
    },
    {
      "cell_type": "code",
      "execution_count": null,
      "metadata": {
        "collapsed": false
      },
      "outputs": [],
      "source": [
        "from earthdaily import earthdatastore\nimport geopandas as gpd\nfrom rasterio.enums import Resampling\nfrom matplotlib import pyplot as plt"
      ]
    },
    {
      "cell_type": "markdown",
      "metadata": {},
      "source": [
        "## Import librairies\n\n"
      ]
    },
    {
      "cell_type": "code",
      "execution_count": null,
      "metadata": {
        "collapsed": false
      },
      "outputs": [],
      "source": [
        "eds = earthdatastore.Auth()\npolygon = gpd.read_file(\"pivot.geojson\")\n# 500x500m\npolygon.geometry = (\n    polygon.geometry.to_crs(epsg=3857).centroid.buffer(500).to_crs(epsg=4326)\n)\n\ndatetime = [\"2019-08\"]"
      ]
    },
    {
      "cell_type": "markdown",
      "metadata": {},
      "source": [
        "## Generate s2 cube\n\n"
      ]
    },
    {
      "cell_type": "code",
      "execution_count": null,
      "metadata": {
        "collapsed": false
      },
      "outputs": [],
      "source": [
        "s2 = eds.datacube(\n    \"sentinel-2-l2a\",\n    intersects=polygon,\n    datetime=datetime,\n    assets=[\"blue\", \"green\", \"red\", \"nir\"],\n    prefer_http=True,\n)"
      ]
    },
    {
      "cell_type": "markdown",
      "metadata": {},
      "source": [
        "## Generate venus cube\n\n"
      ]
    },
    {
      "cell_type": "code",
      "execution_count": null,
      "metadata": {
        "collapsed": false
      },
      "outputs": [],
      "source": [
        "venus_assets = dict(\n    image_file_SRE_B3=\"blue\",\n    image_file_SRE_B4=\"green\",\n    image_file_SRE_B5=\"yellow\",\n    image_file_SRE_B7=\"red\",\n    image_file_SRE_B11=\"nir\",\n)\n\nvenus = eds.datacube(\n    \"venus-l2a\",\n    intersects=polygon,\n    resolution=s2.rio.resolution()[0],\n    datetime=datetime,\n    epsg=s2.rio.crs.to_epsg(),\n    resampling=Resampling.nearest,  # cubic\n    assets=venus_assets,\n    prefer_http=True,\n)"
      ]
    },
    {
      "cell_type": "markdown",
      "metadata": {},
      "source": [
        "## Create supercube\n\n"
      ]
    },
    {
      "cell_type": "code",
      "execution_count": null,
      "metadata": {
        "collapsed": false
      },
      "outputs": [],
      "source": [
        "print(\"create metacube\")\nsupercube = earthdatastore.metacube(s2, venus)"
      ]
    },
    {
      "cell_type": "markdown",
      "metadata": {},
      "source": [
        "## Get the first common date for plotting\n\n"
      ]
    },
    {
      "cell_type": "code",
      "execution_count": null,
      "metadata": {
        "collapsed": false
      },
      "outputs": [],
      "source": [
        "common_date = [\n    day\n    for day in s2.time.dt.strftime(\"%Y%m%d\").values\n    if day in venus.time.dt.strftime(\"%Y%m%d\").values\n][0]"
      ]
    },
    {
      "cell_type": "markdown",
      "metadata": {},
      "source": [
        "## Plot sentinel-2\n\n"
      ]
    },
    {
      "cell_type": "code",
      "execution_count": null,
      "metadata": {
        "collapsed": false
      },
      "outputs": [],
      "source": [
        "s2.sel(time=common_date)[[\"red\", \"green\", \"blue\"]].to_array(dim=\"band\").plot.imshow(\n    vmin=0, vmax=0.15\n)\nplt.title(f\"Sentinel-2 on {common_date}\")\nplt.show()"
      ]
    },
    {
      "cell_type": "markdown",
      "metadata": {},
      "source": [
        "## Plot venus\n\n"
      ]
    },
    {
      "cell_type": "code",
      "execution_count": null,
      "metadata": {
        "collapsed": false
      },
      "outputs": [],
      "source": [
        "venus.sel(time=common_date, method=\"nearest\")[[\"red\", \"green\", \"blue\"]].to_array(\n    dim=\"band\"\n).plot.imshow(vmin=0, vmax=0.15)\nplt.title(f\"Venus on {common_date}\")\n\nplt.show()\n#"
      ]
    },
    {
      "cell_type": "markdown",
      "metadata": {},
      "source": [
        "## Plot the fusion\n\n"
      ]
    },
    {
      "cell_type": "code",
      "execution_count": null,
      "metadata": {
        "collapsed": false
      },
      "outputs": [],
      "source": [
        "supercube.sel(time=common_date)[[\"red\", \"green\", \"blue\"]].to_array(\n    dim=\"band\"\n).plot.imshow(vmin=0, vmax=0.15)\nplt.title(f\"Fusion of Venus/Sentinel-2 on {common_date}\")\n\nplt.show()"
      ]
    }
  ],
  "metadata": {
    "kernelspec": {
      "display_name": "Python 3",
      "language": "python",
      "name": "python3"
    },
    "language_info": {
      "codemirror_mode": {
        "name": "ipython",
        "version": 3
      },
      "file_extension": ".py",
      "mimetype": "text/x-python",
      "name": "python",
      "nbconvert_exporter": "python",
      "pygments_lexer": "ipython3",
      "version": "3.11.6"
    }
  },
  "nbformat": 4,
  "nbformat_minor": 0
}