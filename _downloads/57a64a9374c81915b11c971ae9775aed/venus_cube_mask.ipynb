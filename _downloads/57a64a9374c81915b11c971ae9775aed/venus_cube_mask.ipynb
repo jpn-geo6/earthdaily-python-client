{
  "cells": [
    {
      "cell_type": "markdown",
      "metadata": {},
      "source": [
        "\n# Venus datacube\n\nAccording to a theia location and max cloud cover, using earthdatastore.\n"
      ]
    },
    {
      "cell_type": "markdown",
      "metadata": {},
      "source": [
        "## Import librairies\n\n"
      ]
    },
    {
      "cell_type": "code",
      "execution_count": null,
      "metadata": {
        "collapsed": false
      },
      "outputs": [],
      "source": [
        "from earthdaily import earthdatastore"
      ]
    },
    {
      "cell_type": "markdown",
      "metadata": {},
      "source": [
        "## Load credentials and init earthdatastore\n\n"
      ]
    },
    {
      "cell_type": "code",
      "execution_count": null,
      "metadata": {
        "collapsed": false
      },
      "outputs": [],
      "source": [
        "eds = earthdatastore.Auth()"
      ]
    },
    {
      "cell_type": "markdown",
      "metadata": {},
      "source": [
        "## Set parameters\n\n"
      ]
    },
    {
      "cell_type": "code",
      "execution_count": null,
      "metadata": {
        "collapsed": false
      },
      "outputs": [],
      "source": [
        "collection = \"venus-l2a\"\ntheia_location = \"MEAD\"\nmax_cloud_cover = 20\n\nquery = {\n    \"theia:location\": {\"eq\": theia_location},\n    \"eo:cloud_cover\": {\"lt\": max_cloud_cover},\n}"
      ]
    },
    {
      "cell_type": "markdown",
      "metadata": {},
      "source": [
        "## Search for items\n\n"
      ]
    },
    {
      "cell_type": "markdown",
      "metadata": {},
      "source": [
        "## Search for items\n\n"
      ]
    },
    {
      "cell_type": "code",
      "execution_count": null,
      "metadata": {
        "collapsed": false
      },
      "outputs": [],
      "source": [
        "items = eds.search(collection, query=query, prefer_alternate=\"download\")"
      ]
    },
    {
      "cell_type": "markdown",
      "metadata": {},
      "source": [
        "<div class=\"alert alert-info\"><h4>Note</h4><p>We specify prefer_http=True because we didn't set any s3 credentials.</p></div>\n\n"
      ]
    },
    {
      "cell_type": "code",
      "execution_count": null,
      "metadata": {
        "collapsed": false
      },
      "outputs": [],
      "source": [
        "print(f\"{theia_location} venus location has {len(items)} items.\")"
      ]
    },
    {
      "cell_type": "markdown",
      "metadata": {},
      "source": [
        "## Create the datacube and bandname mapping\n\n"
      ]
    },
    {
      "cell_type": "markdown",
      "metadata": {},
      "source": [
        "<div class=\"alert alert-info\"><h4>Note</h4><p>As transform and other metadata are missing in assets,\n  compute them for first asset</p></div>\n\n"
      ]
    },
    {
      "cell_type": "code",
      "execution_count": null,
      "metadata": {
        "collapsed": false
      },
      "outputs": [],
      "source": [
        "epsg, resolution = (\n    items[0].properties[\"proj:epsg\"],\n    items[0].properties[\"gsd\"],\n)"
      ]
    },
    {
      "cell_type": "markdown",
      "metadata": {},
      "source": [
        "<div class=\"alert alert-info\"><h4>Note</h4><p>Instead of giving list of assets, you can provide a dict, with\n  key as the asset you want, and the value as the name you want.</p></div>\n\n"
      ]
    },
    {
      "cell_type": "code",
      "execution_count": null,
      "metadata": {
        "collapsed": false
      },
      "outputs": [],
      "source": [
        "venus_datacube = earthdatastore.datacube(\n    items,\n    assets={\n        \"image_file_SRE_B3\": \"blue\",\n        \"image_file_SRE_B4\": \"green\",\n        \"image_file_SRE_B7\": \"red\",\n    },\n    epsg=epsg,\n    resolution=resolution,\n)\nprint(venus_datacube)\n\nvenus_datacube.isel(\n    time=slice(29, 33), x=slice(4000, 4500), y=slice(4000, 4500)\n)[[\"red\", \"green\", \"blue\"]].to_array(dim=\"band\").plot.imshow(\n    col=\"time\", vmin=0, vmax=0.33\n)"
      ]
    }
  ],
  "metadata": {
    "kernelspec": {
      "display_name": "Python 3",
      "language": "python",
      "name": "python3"
    },
    "language_info": {
      "codemirror_mode": {
        "name": "ipython",
        "version": 3
      },
      "file_extension": ".py",
      "mimetype": "text/x-python",
      "name": "python",
      "nbconvert_exporter": "python",
      "pygments_lexer": "ipython3",
      "version": "3.11.6"
    }
  },
  "nbformat": 4,
  "nbformat_minor": 0
}